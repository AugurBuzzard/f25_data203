{
 "cells": [
  {
   "cell_type": "markdown",
   "id": "bf94523e-c3fa-43de-9d50-7f005633f32e",
   "metadata": {},
   "source": [
    "# HW0 Solution Notebook | [Your Student Na Here]\n",
    "## DATA203 (MAULL) "
   ]
  },
  {
   "cell_type": "markdown",
   "id": "eed04fa2-54bc-4560-af89-506e666de796",
   "metadata": {},
   "source": [
    "### (100%) Learn more about and use string manipulation \n",
    "\n",
    "We learned in lecture that strings are _sequences_ in Python.\n",
    "\n",
    "We also learned that the sequence types have a number of basic operations\n",
    "like concatenation, length, etc.\n",
    "\n",
    "Strings have a lot of other operations on them that make them exceedingly\n",
    "useful for text processing.  In fact, Python is exceptionally good at\n",
    "processing text, as you will see.\n",
    "\n",
    "First things first, please go to the documentation on Python strings, also known as **`str`** or \"Text Sequence Type\":\n",
    "\n",
    "- [https://docs.python.org/3/library/stdtypes.html#textseq](https://docs.python.org/3/library/stdtypes.html#textseq)\n",
    "\n",
    "Study it and especially the String methods (see more here: [https://docs.python.org/3/library/stdtypes.html#string-methods](https://docs.python.org/3/library/stdtypes.html#string-methods)).\n",
    "\n",
    "You will be using this short **AI-generated writeup (llama3.2/1B; note &#8594; there are _many_ inaccuracies in the \n",
    "generated text)** about the visionary, genius jazz composer and \n",
    "  bassist, Charles Mingus ([https://charlesmingus.com/](https://charlesmingus.com/)):\n",
    "\n",
    "> Charles Mingus was born on September 16, 1922, in Cleveland, Ohio, to Charles Edward Mingus Sr. and Alice Lillie Mingus. He grew up in a musical household, with his parents being both pianists and his father teaching piano lessons at the age of four. Mingus's early musical influences were diverse, ranging from blues and ragtime to jazz and classical music. He began playing the bass guitar at the age of six and by the time he was 14, he was already performing professionally in various bands in Cleveland.\n",
    "\n",
    "> Mingus's family moved to Los Angeles when he was a teenager, where he attended High School No. 1 and later went on to study at Claremont Men's College for two years before transferring to California State University, Long Beach (CSULB). It was during his time at CSULB that Mingus began to develop his musical skills, studying under the tutelage of composer and bandleader, Leonard Bernstein. After graduating from CSULB in 1946, Mingus worked as a studio musician, recording sessions for various artists including Benny Goodman and Louis Armstrong.\n",
    "\n",
    "> In the early 1950s, Mingus formed his own band, the Charles Mingus Seventh, which would become one of the most influential jazz groups of the time. The group's music was characterized by its complex harmonies, intricate rhythms, and Mingus's unique bass playing style, which combined elements of classical music with traditional jazz. Mingus's contributions to the music world were numerous, but perhaps his most important contribution was his role as a composer and arranger for various artists, including Ella Fitzgerald, Billie Holiday, and Chet Baker. His music also played a significant part in shaping the sound of 1960s jazz, influencing musicians such as Herbie Hancock and Wynton Marsalis.\n",
    "\n",
    "> One of Mingus's most important contributions to the music world was his concept of \"polyrhythms,\" which involved layering multiple rhythms on top of one another to create complex and intricate musical textures. This approach has been emulated by countless musicians since Mingus, and continues to influence jazz and other genres of music today. Mingus also made significant contributions to the development of the \"double bass\" (also known as the \"bass clarinet\"), a hybrid instrument that combines elements of both the double bass and the alto saxophone. His innovative use of this instrument has had a lasting impact on the world of jazz.\n",
    "\n",
    "> Throughout his long and prolific career, Mingus released over 60 albums, including the classic album \"Mingus Ah Um,\" which is widely regarded as one of the greatest jazz albums of all time. Mingus's music can be heard in numerous films, television shows, and commercials, and he continues to inspire new generations of musicians and fans alike. Despite his passing on May 15, 1979, Charles Mingus remains an important figure in the history of jazz, a true innovator and master of his craft who continues to shape the music world to this day."
   ]
  },
  {
   "cell_type": "markdown",
   "id": "55891d99-79c5-49f3-b572-788bcdb30f61",
   "metadata": {},
   "source": [
    "**&#167; Task:**  **Basic String functions.**\n",
    "\n",
    "Use the passage provided and answer the questions.  **Provide your answer in a Jupyter Notebook.**\n",
    "\n",
    "1. Set a variable called `passage` with the string provided \n",
    "   into a multi-line string using `\"\"\"` which we talked about in lecture.  \n",
    "   Make sure you preserve\n",
    "   the spaces between paragraphs, which are `\"\\n\\n\"` (two newlines).\n",
    "2. Use [`str.splitlines()`](https://docs.python.org/3/library/stdtypes.html#str.splitlines) to determine how many paragraphs are in the string.  \n",
    "   Recall, `splitlines()` returns a _sequence_ (i.e. a list sequence), so counting the \n",
    "   paragraphs is easier with `len()`.\n",
    "3. Use [`lower()`](https://docs.python.org/3/library/stdtypes.html#str.lower) to produce the lowercase version of the whole string."
   ]
  },
  {
   "cell_type": "code",
   "execution_count": 1,
   "id": "08b4f0b7-9d42-4743-9da9-2ba203332a4c",
   "metadata": {},
   "outputs": [],
   "source": [
    "# ANS: Python code goes here."
   ]
  },
  {
   "cell_type": "markdown",
   "id": "26a0bc74-11ce-4f5a-b4ba-c1be6895255b",
   "metadata": {},
   "source": [
    "**&#167; Task:**  **Advanced String functions.**\n",
    "\n",
    "Now that you have `passage` in a variable, there are a few\n",
    "more String operations we want to try to familiarize ourselves with.\n",
    "\n",
    "1. Use `replace()` to replace all instances of the word `\" his \"` with ` ### `.  \n",
    "   You would be advised to use `str.lower()` first so that all of \n",
    "   your words are _normalized_.  **Note also the spaces around the word.**\n",
    "\n",
    "   So for example, the sentence `\"The place where his hat was lost.\"` would \n",
    "   be `\"The place where ### hat was lost.\"`.\n",
    "2. How many `\" his \"` words are in the passage?\n",
    "3. How many times was the word `\" jazz \"` used in the passage?  Use the lowercase-normalized count."
   ]
  },
  {
   "cell_type": "code",
   "execution_count": 2,
   "id": "b209edb8-0f3d-401f-9343-3ec2de210db2",
   "metadata": {},
   "outputs": [],
   "source": [
    "# ANS: Python code goes here."
   ]
  },
  {
   "cell_type": "markdown",
   "id": "2f1a11a8-2de0-40ed-8e6c-0731670731b7",
   "metadata": {},
   "source": [
    "**&#167; Task:**  **Sequence iteration.**\n",
    "\n",
    "Now we will put looping into our work and ask more complex\n",
    "questions of the text.\n",
    "\n",
    "To produce a list sequence of all the words in `passage` then\n",
    "you will learn that [`str.split()`](https://docs.python.org/3/library/stdtypes.html#str.split) will be very valuable.  \n",
    "\n",
    "1. Study what `passage.split()` does and write a sentence \n",
    "   fragment explaining what it does.\n",
    "1. Get the first paragraph (index 0), and return the number of words in \n",
    "   the paragraph.  **NOTE:** you can include punctuation as part\n",
    "   of the word.  You will make use of your solution in #2 and `split()`.\n",
    "2. Use a `for` loop with `split()` to print all words that end in `\"ing\"`. \n",
    "   Provide the count of such words.  **Note**: you do not have to\n",
    "   remove punctuation, so if you end up with an item like `\"walking,\"`\n",
    "   you can ignore it in your count.\n",
    "3. How many words end in `\"er\"`?  Provide the list of those words.  You will \n",
    "   need to use a `for` loop.\n",
    "4. How many times does the word \"Mingus\" appear in the passage?"
   ]
  },
  {
   "cell_type": "code",
   "execution_count": 3,
   "id": "d144a298-bd0d-437a-9ab4-4692e8bbe3ef",
   "metadata": {},
   "outputs": [],
   "source": [
    "# ANS: Python code goes here."
   ]
  },
  {
   "cell_type": "markdown",
   "id": "36a543e4-ec90-4e36-822b-24bd812505ed",
   "metadata": {},
   "source": [
    "**&#167; Task:**  **Find AI errors.**\n",
    "\n",
    "The text was AI-generated and so has errors in it.  For 1 point, list at least\n",
    "one incorrect statement in the passage.  You might use: [https://chargesmingus.com/mingusbio](https://chargesmingus.com/mingusbio)\n",
    "Allmusic.com's [biography page](https://www.allmusic.com/artist/charles-mingus-mn0000009680#biography)\n",
    "Do this in a Markdown cell in your \n",
    "notebook."
   ]
  },
  {
   "cell_type": "markdown",
   "id": "68b7e168-b38d-4db9-b724-bf6b041df7c6",
   "metadata": {},
   "source": [
    "\n",
    "## ANS:\n",
    "\n",
    "You can use this Markdown cell to write your answers.\n",
    "\n"
   ]
  }
 ],
 "metadata": {
  "kernelspec": {
   "display_name": "Python 3 (ipykernel)",
   "language": "python",
   "name": "python3"
  },
  "language_info": {
   "codemirror_mode": {
    "name": "ipython",
    "version": 3
   },
   "file_extension": ".py",
   "mimetype": "text/x-python",
   "name": "python",
   "nbconvert_exporter": "python",
   "pygments_lexer": "ipython3",
   "version": "3.12.6"
  }
 },
 "nbformat": 4,
 "nbformat_minor": 5
}

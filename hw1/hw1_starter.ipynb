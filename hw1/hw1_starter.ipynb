{
 "cells": [
  {
   "cell_type": "markdown",
   "id": "0e4b104b-090b-4cec-a005-9acaa6923c1e",
   "metadata": {},
   "source": [
    "# DATA 203/HW1: [YOUR NAME HERE]"
   ]
  },
  {
   "cell_type": "markdown",
   "id": "82e82c80-905c-4c6f-ac35-2e62b26ae6b5",
   "metadata": {
    "tags": []
   },
   "source": [
    "## 0. Exploring JupyterHub Python _shell_ commands inside cells (0%/no points)\n",
    "\n",
    "\n",
    "In the last time we learned to run the terminal console commands\n",
    "in JupyterLab, which is a great way to perform command-line tasks and is an essential tool\n",
    "for basic scripting that is part of a data scientist's toolkit.  Last time we used a \n",
    "terminal console in the lab environment\n",
    "this time we familiarize ourselves with Jupyter\n",
    "_shell_ escape commands **within** a notebook.\n",
    "\n",
    "Study:\n",
    "\n",
    "  * [Python Data Science Handbook: IPython and Shell Commands](https://jakevdp.github.io/PythonDataScienceHandbook/01.05-ipython-and-shell-commands.html)\n",
    "\n",
    "for full documentation on _shell_ ... they are **very** useful!\n",
    "\n",
    "### **&#167; Task: Use Jupyter _shell_ commands to perform the same commands as last time.**\n",
    "\n",
    "   Basic file operations go a long way to understand\n",
    "   the way Linux works.  In this part, you will understand\n",
    "   folders, files and making revisions to a file.  These files\n",
    "   will be visible within Jupyter, which makes moving from\n",
    "   one platform to another seamless.  We will create a folder, file\n",
    "   and make edits.             \n",
    "   \n",
    "   - type `!mkdir your_folder_name` to create a folder in filesystem _in the current folder where you are_\n",
    "   - create a file by type `touch README.md` the `touch` command creates a file if it does not already exist, otherwise it will change the timestamp of that file when it is \"touched\"\n",
    "   - edit the file in Jupyter with the text editor\n",
    "   - to see the contents of your file typing `!cat README.md` \n",
    "\n",
    "\n",
    "### **&#167; Task:**  **Use _shell_ command `wget` to quickly obtain remote files in Linux** \n",
    "\n",
    "   As before get a remote file this time it will be from the [Internet Archive](https://archive.org):\n",
    "\n",
    "   - in a cell type `!wget https://ia801306.us.archive.org/15/items/fouraddressesats00howa/fouraddressesats00howa.pdf`\n",
    "   - execute the cell\n",
    "   - verify the file was retrieved by opening it\n"
   ]
  },
  {
   "cell_type": "markdown",
   "id": "2c5dc300-cc25-4ccf-aa06-ea1a5e0a1aca",
   "metadata": {
    "tags": []
   },
   "source": [
    "## 1. (50%) List, Loops and Leaves: Get more practice using `for` loops and lists. \n",
    "\n",
    "\n",
    "We learned in lecture that looping is a necessary tool\n",
    "for computation in Python and all coding.  This part of the \n",
    "assignment will focus on loops and the string type.\n",
    "\n",
    "I have provided a starter notebook for you to use, \n",
    "which will greatly enhance you ability to complete\n",
    "the assignment.  See that in the folder here.  The \n",
    "name of the notebook is `hw1/hw1_starter.ipynb`:\n",
    "\n",
    "* [https://github.com/kmhuads/f25_data203/tree/main/hw1/hw1_starter.ipynb](https://github.com/kmhuads/s25_data203/tree/main/hw1/hw1_starter.ipynb)\n",
    "\n",
    "Look at this file and see what is in it -- use it since\n",
    "in the notebook are some scaffolding code.  You will \n",
    "need to study it and use it in the solutions\n",
    "being asked.\n",
    "\n",
    "\n",
    "You will use the starter notebook for your answer to write the Python code required to complete it."
   ]
  },
  {
   "cell_type": "markdown",
   "id": "a54d02d6-8878-4683-80ae-b024d71135d5",
   "metadata": {
    "tags": []
   },
   "source": [
    "### **&#167; Task 1.1: Write a code that converts all the sentences in the `sentences` list to lowercase and prints the cleaned list.**\n",
    "\n",
    "* A `for` loop will be necessary and you will also need to revist `str.lower()`.\n",
    "* You can simply use `print()` to display the lowercased, unpunctuated sentences.\n",
    "\n",
    "**Example:**\n",
    "\n",
    "If \n",
    "\n",
    "```python\n",
    "s = ['Pumpkin patches are often filled with adorable pumpkins and Fall decorations!!!']\n",
    "```\n",
    "\n",
    "then your code will output:\n",
    "\n",
    "```text\n",
    "pumpkin patches are often filled with adorable pumpkins and fall decorations\n",
    "```\n",
    "\n",
    "There are many ways to solve this, so don't overthink it!"
   ]
  },
  {
   "cell_type": "code",
   "execution_count": 7,
   "id": "0eddbdfd-f641-49d8-a3c9-b5f7592d99e1",
   "metadata": {
    "tags": []
   },
   "outputs": [],
   "source": [
    "\n",
    "# YOUR SOLUTION GOES HERE\n"
   ]
  },
  {
   "cell_type": "markdown",
   "id": "eb4807cf-23c1-4311-bef0-69d96ebd655d",
   "metadata": {
    "tags": []
   },
   "source": [
    "### **&#167; Task 1.2: write code that compares all sentences in the `sentences` list to one another and prints the list of common words or an empty list when there are no commonalities.**\n",
    "\n",
    "Starting with the Python code definining `sentences`:\n",
    "\n",
    "```Python\n",
    "  sentences = [\n",
    "      \"The vibrant colors of the changing leaves in autumn were breathtakingly beautiful.\",\n",
    "      \"As the days get shorter, people start to cozy up with warm \\\n",
    "       drinks and snuggled blankets indoors.\",\n",
    "      \"In the fall, apple cider donuts and pumpkin pie are a classic combination at many cafes.\",\n",
    "      \"The crisp air and cooling temperatures make fall the perfect time \\\n",
    "       for outdoor activities like hiking and apple picking.\",\n",
    "      \"As the weather cools down, people start to wear layers of sweaters and scarves to stay warm.\",\n",
    "      \"The smell of wood smoke and fallen leaves fills the air during the fall season.\",\n",
    "      \"In many parts of the world, the fall equinox marks the official beginning of autumn.\",\n",
    "      \"The bright orange foliage of the sugar maples in the forest is a stunning sight to behold.\",\n",
    "      \"As the nights get longer, people start to enjoy outdoor movies and \\\n",
    "       bonfires with friends and family.\"\n",
    "  ]\n",
    "```\n",
    "\n",
    "Your output MUST look like this:\n",
    "\n",
    "```\n",
    "S1: The vibrant colors of the changing leaves in autumn were breathtakingly beautiful.\n",
    "S2: The vibrant colors of the changing leaves in autumn were breathtakingly beautiful.\n",
    "\n",
    "  Have the following words in common:\n",
    "  -> breathtakingly, in, vibrant, the, leaves, were, changing, autumn, colors, of, beautiful\n",
    "```\n",
    "\n",
    "* As before you will need to use the lowercased version of the sentence (with `str.lower()`) or you will lose a point (and many of your answers will be wrong).\n",
    "* Two `for` loops will be necessary -- the outer loop will loop over each sentence as will the inner loop.\n",
    "* You can simply use `print()` to display the list of words in common.\n",
    "* You must use the provided function `common_words()`.\n",
    "* Your output will contain 100 blocks (there are 10 sentences and each will be compared with all 10)."
   ]
  },
  {
   "cell_type": "code",
   "execution_count": 2,
   "id": "4f7ea4a7-f45c-42f0-a1d5-a10d5a0a5fa4",
   "metadata": {
    "tags": []
   },
   "outputs": [],
   "source": [
    "sentences = [\n",
    "    \"The vibrant colors of the changing leaves in autumn were breathtakingly beautiful.\",\n",
    "    \"As the days get shorter, people start to cozy up with warm drinks and snuggled blankets indoors.\",\n",
    "    \"In the fall, apple cider donuts and pumpkin pie are a classic combination at many cafes.\",\n",
    "    \"The crisp air and cooling temperatures make fall the perfect time for outdoor activities like hiking and apple picking.\",\n",
    "    \"As the weather cools down, people start to wear layers of sweaters and scarves to stay warm.\",\n",
    "    \"The smell of wood smoke and fallen leaves fills the air during the fall season.\",\n",
    "    \"In many parts of the world, the fall equinox marks the official beginning of autumn.\",\n",
    "    \"The bright orange foliage of the sugar maples in the forest is a stunning sight to behold.\",\n",
    "    \"As the nights get longer, people start to enjoy outdoor movies and bonfires with friends and family.\"\n",
    "]"
   ]
  },
  {
   "cell_type": "code",
   "execution_count": 5,
   "id": "0875bd51-9970-4ca3-9cc6-75ddf47fe51d",
   "metadata": {
    "tags": []
   },
   "outputs": [],
   "source": [
    "# PROVIDED FUNCTION YOU MUST USE IN YOUR SOLUTIONS\n",
    "def common_words(s1, s2):\n",
    "    s1, s2 = set(s1), set(s2)\n",
    "    \n",
    "    return s1.intersection(s2)"
   ]
  },
  {
   "cell_type": "code",
   "execution_count": 5,
   "id": "e929caec-e380-43e1-8b62-969dfc6bd4ea",
   "metadata": {
    "tags": []
   },
   "outputs": [],
   "source": [
    "\n",
    "# YOUR SOLUTION GOES HERE\n"
   ]
  },
  {
   "cell_type": "markdown",
   "id": "d247b627-5e3f-47d8-a828-b5a7b612fd50",
   "metadata": {
    "tags": []
   },
   "source": [
    "### **&#167; Task 1.3: Explain in your own words what the provided function `common_words()` does.  Include the main data type used in the function and _why_ that was an appropriate choice.**"
   ]
  },
  {
   "cell_type": "markdown",
   "id": "f1eef9af-6074-4115-baa3-d7235c0cf032",
   "metadata": {},
   "source": [
    "\n",
    "\n",
    "_YOUR SOLUTION GOES HERE_\n",
    "\n"
   ]
  },
  {
   "cell_type": "markdown",
   "id": "a014fba9-1e41-43da-87a0-b51c88304d1f",
   "metadata": {},
   "source": [
    "## 2. (50%): Dictionary Deluge: Understand and use dictionaries for complex data. \n",
    "\n",
    "In this part we are going to work with dictionaries and loops again, as well as learn about two\n",
    "common file types that you will run across in Python (and other languages).\n",
    "\n",
    "The first file type is call JSON or \"JavaScript Object Notation\" and is \n",
    "one of the most ubiquitous file formats today.  It allows you to store\n",
    "data of all kinds, but in our particular case, as we will find out, it\n",
    "is well suited for mapping data, key-value paired data or what we now\n",
    "know to be dictionaries in Python.\n",
    "\n",
    "You will want to pay close attention to this because being able to store\n",
    "and retrieve dictionaries and key-value paired data is greatly \n",
    "simplified when using JSON.\n",
    "\n",
    "Here is a fragment of a JSON file, which will commonly have the\n",
    "file extension `.json`:\n",
    "\n",
    "```json\n",
    "{\n",
    "    \"appetizers\": \n",
    "    {\n",
    "        \"Ackee and Saltfish Cakes\": \n",
    "        {\n",
    "            \"description_en\": \n",
    "                \"Cakes crispy made with ackee fruit, salted cod fish, onions, bell peppers, and spices. A popular appetizer in Jamaica, these cakes are often served with a side of tangy tartar sauce.\", \n",
    "            \"description_es\": \n",
    "                \"Cakes crujientes hechos con fruto de ackee, pescado salado, cebolla, pimientos y especias. Un aperitivo popular en Jamaica, estos pasteles se sirven com\\u00fanmente con una servilleta de salsa \\u00e1cida.\", \n",
    "            \"price\": 12.99\n",
    "         }\n",
    "    }\n",
    "}\n",
    "```\n",
    "\n",
    "\n",
    "Another file format you will run across is YAML, which stands for \"Yet Another Markup Language\".\n",
    "I personally find YAML to be a great way to store data more easily that JSON at first, and then\n",
    "when a JSON file is necessary, convert it accordingly.  YAML is a superset of JSON and \n",
    "is actually easier to read in it's native file format (mostly because of the lack of curly\n",
    "braces and quotes), but nearly all computer systems can manipulate and display both formats \n",
    "beautifully, so it is really just a matter of personal preference until you run into a use\n",
    "case where the one might be more convenient over the other.\n",
    "\n",
    "You just need to remember that YAML can be easily converted to JSON and visa versa.\n",
    "\n",
    "YAML files commonly have the file extension `.yaml`.  Here is an example based on the same fragment as before.\n",
    "\n",
    "```yaml\n",
    "\n",
    "appetizers:\n",
    "  Ackee and Saltfish Cakes:\n",
    "    description_en: Cakes crispy made with ackee fruit, salted cod fish, onions, bell\n",
    "      peppers, and spices. A popular appetizer in Jamaica, these cakes are often served\n",
    "      with a side of tangy tartar sauce.\n",
    "    description_es: \"Cakes crujientes hechos con fruto de ackee, pescado salado, cebolla,\\\n",
    "      \\ pimientos y especias. Un aperitivo popular en Jamaica, estos pasteles se sirven\\\n",
    "      \\ com\\xFAnmente con una servilleta de salsa \\xE1cida.\"\n",
    "    price: 12.99\n",
    "    \n",
    "    \n",
    "```\n",
    "\n",
    "In Python you can import each easily:\n",
    "\n",
    "```python \n",
    "import json\n",
    "import yaml\n",
    "```\n",
    "\n",
    "Official documentation is here:\n",
    "\n",
    "* [yaml module documentation on pyyaml.org](https://pyyaml.org/wiki/PyYAMLDocumentation)\n",
    "* [json module documentation on Python.org](https://docs.python.org/3/library/json.html)"
   ]
  },
  {
   "cell_type": "markdown",
   "id": "1d048387-3978-44a3-bee6-be89be01f795",
   "metadata": {},
   "source": [
    "### **Task 2.1:  Load the menu from the `data/` folder into a dictionary using the YAML and JSON versions.**\n"
   ]
  },
  {
   "cell_type": "code",
   "execution_count": null,
   "id": "8bd9a338-429f-4dac-9a0b-8105fb452a41",
   "metadata": {},
   "outputs": [],
   "source": [
    "\n",
    "\n",
    "# YOUR SOLUTION GOES HERE\n",
    "\n"
   ]
  },
  {
   "cell_type": "markdown",
   "id": "df49d890-2c53-4e16-b1ee-de67edb473a0",
   "metadata": {},
   "source": [
    "### **&#167; Task 2.2:  Use  resulting dictionary structure from the prior task to calculate the cost of all entrees on the menu.**\n",
    "\n",
    "Here you will access the `entrees` key of the menu dictionary, then you will loop over all the `price` sub-keys and sum them up.  There are a number of easy ways to do this."
   ]
  },
  {
   "cell_type": "code",
   "execution_count": null,
   "id": "c34f342a-af39-4f9b-a7b2-ab8a94bac266",
   "metadata": {},
   "outputs": [],
   "source": [
    "\n",
    "\n",
    "# YOUR SOLUTION GOES HERE\n",
    "\n"
   ]
  },
  {
   "cell_type": "markdown",
   "id": "77995a82-9821-4b3b-8495-6fb20e3e3869",
   "metadata": {},
   "source": [
    "### **&#167; Task 2.3:  Use the provided order below to write the code to summarize the order.  Your output will include (1) the total item count in the order, (2) the order total (sum of all items), and then the breakdown of the total by category (`appetizer`, `entree`, `desert`).**\n",
    "\n",
    "Here is the order:\n",
    "\n",
    "```python\n",
    "\n",
    "order001 = \\\n",
    "{\n",
    "    'order': {\n",
    "        'appetizers':\n",
    "            {\n",
    "            'Callaloo Fritters': 2,\n",
    "            'Conch Fritters': 2,\n",
    "            'Jerk Chicken Wings': 2,\n",
    "            'Ackee and Saltfish Cakes': 1,\n",
    "            },\n",
    "        'deserts':\n",
    "            {\n",
    "            'Guava Duff': 3,\n",
    "            'Mango Sorbet': 2,\n",
    "            'Sweet Potato Pudding Cake': 1,\n",
    "            'Coconut Rice Pudding': 1,\n",
    "            },\n",
    "        'entrees':\n",
    "            {\n",
    "            'Curry Goat': 1,\n",
    "            'Brown Stew Fish with Rice and Peas': 1,\n",
    "            'Jerk Chicken': 1\n",
    "            }\n",
    "        }\n",
    "}\n",
    "```\n",
    "\n",
    "Your output should look like (with the correct values):\n",
    "\n",
    "```python\n",
    "Order Item Count: 1234\n",
    "Order Total: $000.00\n",
    "    Appetizers: $000.00\n",
    "    Entrees: $000.00\n",
    "    Deserts: $000.00\n",
    "```\n",
    "\n",
    "To perform this you will need to traverse the order and also use the menu dictionary (and corresponding prices)."
   ]
  },
  {
   "cell_type": "code",
   "execution_count": null,
   "id": "927c5099-36a5-4610-b25a-1fa2e0cf54a8",
   "metadata": {},
   "outputs": [],
   "source": [
    "\n",
    "\n",
    "# YOUR SOLUTION GOES HERE\n",
    "\n"
   ]
  }
 ],
 "metadata": {
  "kernelspec": {
   "display_name": "Python 3 (ipykernel)",
   "language": "python",
   "name": "python3"
  },
  "language_info": {
   "codemirror_mode": {
    "name": "ipython",
    "version": 3
   },
   "file_extension": ".py",
   "mimetype": "text/x-python",
   "name": "python",
   "nbconvert_exporter": "python",
   "pygments_lexer": "ipython3",
   "version": "3.11.4"
  }
 },
 "nbformat": 4,
 "nbformat_minor": 5
}

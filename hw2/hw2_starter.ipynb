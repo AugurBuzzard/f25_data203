{
 "cells": [
  {
   "cell_type": "markdown",
   "id": "0e4b104b-090b-4cec-a005-9acaa6923c1e",
   "metadata": {},
   "source": [
    "# DATA 203/HW2: [YOUR NAME HERE]"
   ]
  },
  {
   "cell_type": "markdown",
   "id": "2c5dc300-cc25-4ccf-aa06-ea1a5e0a1aca",
   "metadata": {
    "tags": []
   },
   "source": [
    "### (20%) 1. Practice writing functions. \n",
    "\n",
    "\n",
    "We can all use a little more practice\n",
    "writing functions in Python, so here\n",
    "we go.\n",
    "\n",
    "In this part, we will input a list of numbers\n",
    "and determine, first, if there are any primes\n",
    "and second which of them (the primes) is largest.\n",
    "\n",
    "As a quick reminder, prime numbers are interesting for a wide array of reasons\n",
    "(some practical, some purely mathematical), but a _prime number_ is a number which is only divisible \n",
    "but 1 and itself.  Common small primes we know, love and\n",
    "interact with everyday are 3, 5, 7, 11, 13, 17 and so on.  It should\n",
    "be noted _finding_ algorithms to search for \n",
    "large primes is hard work, and _not_ something\n",
    "we will do with this assignment.\n",
    "\n",
    "For example, do you know which  number  in the list below \n",
    "is prime?  If there are more than one prime, which is the largest of them?\n",
    "\n",
    "`[834, 937, 1065, 1124, 1137, 1256, 1380, 1422, 1155, 1287, 1365]`\n",
    "\n",
    "We will dig in and practice how to do this in Python.\n",
    "\n",
    "Use this starter notebook to complete\n",
    "your work:\n",
    "\n",
    "* [hw2 starter notebook](./hw2/hw2_starter.ipynb)"
   ]
  },
  {
   "cell_type": "markdown",
   "id": "6d10e801-4989-4beb-a3f8-0bc16ccea9c7",
   "metadata": {},
   "source": [
    "#### **&#167; Task:**  **1.0 Write a function to the find the largest prime from a list of arbitrary size.**\n",
    "\n",
    "\n",
    "This should be very straightforward, but remember:\n",
    "\n",
    "1. you will need to first check if a number is a candidate to be a \n",
    "   prime number.  Use the `is_prime()` function provided and this can be easily done.\n",
    "   Also remember\n",
    "   the following fact:  _there are no even prime numbers_, or\n",
    "   alternatively, if a number is divisible by 2, it _cannot_ be prime,\n",
    "             \n",
    "2. _keep track_ of the largest prime that you have seen, thus\n",
    "  a loop will be your best tool along with a variable, say `max_prime` to store\n",
    "  the largest seen so far,\n",
    "\n",
    "3. make sure that if you see a new prime check it against your `max_prime`,\n",
    "\n",
    "2. don't overthink it, you only need one loop and some conditional `if-else` logic to\n",
    "  check the current number in the loop,\n",
    "  \n",
    "4. your function should be named `find_largest_prime`."
   ]
  },
  {
   "cell_type": "code",
   "execution_count": 1,
   "id": "9ba1ecdd-299e-43b0-b160-9347a4301000",
   "metadata": {},
   "outputs": [],
   "source": [
    "## is_prime() function to use \n",
    "##   in your solution\n",
    "\n",
    "def is_prime(n):\n",
    "    import math\n",
    "    if n <= 1:\n",
    "        return False\n",
    "    else:\n",
    "        is_prime = True\n",
    "        for i in range(2, int(math.sqrt(n)) + 1):\n",
    "            if n % i == 0:\n",
    "                is_prime = False\n",
    "                break\n",
    "        return is_prime"
   ]
  },
  {
   "cell_type": "markdown",
   "id": "4d2e8d11-79ea-452d-b427-37f0e4e5dbc7",
   "metadata": {},
   "source": [
    "_function_ **NAME**: `find_largest_prime`\n",
    "\n",
    "\n",
    "_function_ **INPUT**\n",
    "\n",
    "  - a Python list.\n",
    "\n",
    "_function_ **OUTPUT**\n",
    "\n",
    "  - `None` if there are no primes in the list,\n",
    "  - the largest prime number in the list.\n",
    "\n",
    "_Code Example_:\n",
    "```python\n",
    "  input_list = [1, 2, 3, 4, 5]\n",
    "  largest_prime(input_list)\n",
    "```\n",
    "\n",
    "_Output_:\n",
    "```python\n",
    "  5\n",
    "```"
   ]
  },
  {
   "cell_type": "code",
   "execution_count": 2,
   "id": "d7ebddd3-1e3f-4882-a214-366862ea4250",
   "metadata": {},
   "outputs": [],
   "source": [
    "### YOUR SOLUTION\n",
    "\n",
    "def find_largest_prime(lst):\n",
    "    # implementation here that finds the largest prime in lst\n",
    "    # remember to use is_prime() from above\n",
    "    return\n",
    "    "
   ]
  },
  {
   "cell_type": "markdown",
   "id": "6f6e6a7a-94ff-4fe2-8a53-a314a4d056af",
   "metadata": {},
   "source": [
    "**USE THE TESTER CODE BELOW TO TEST YOUR SOLUTION. ALL TESTS SHOULD PASS.**"
   ]
  },
  {
   "cell_type": "code",
   "execution_count": 3,
   "id": "9bd6338a-fa3e-4c1b-9a30-4ca126d52a5f",
   "metadata": {},
   "outputs": [
    {
     "name": "stdout",
     "output_type": "stream",
     "text": [
      "[Test 0] -> task 1.1 [NOT pass]\n",
      "\n",
      "\tinput:  [79, 84, 68, 70, 15, 62, 12, 56, 91, 62]\n",
      "\n",
      "\tEXPECTED output:  79\n",
      "\tYOUR     output:  None\n",
      "\n",
      "[Test 1] -> task 1.1 [NOT pass]\n",
      "\n",
      "\tinput:  [516, 960, 806, 284, 349, 697, 930, 503, 485, 293, 329, 600, 633, 768, 629, 957, 724, 324, 592, 470, 789, 673, 638, 397, 801]\n",
      "\n",
      "\tEXPECTED output:  673\n",
      "\tYOUR     output:  None\n",
      "\n",
      "[Test 2] -> task 1.1 [NOT pass]\n",
      "\n",
      "\tinput:  [2822, 2382, 3037, 3885, 1765, 4723, 2854, 2644, 3553, 4978, 3213, 4565, 3620, 4992, 3883, 2401, 2455, 4910, 2885, 1946, 4847, 2715, 3290, 1123, 4262]\n",
      "\n",
      "\tEXPECTED output:  4723\n",
      "\tYOUR     output:  None\n",
      "\n",
      "[Test 3] -> task 1.1 [NOT pass]\n",
      "\n",
      "\tinput:  [78437, 38597, 44791, 38673, 94927, 27003, 75267, 83613, 37539, 76009, 26660, 91730, 68523, 50665, 24323, 13981, 36095, 43285, 3458, 46379, 45658, 76791, 69433, 1763, 48072, 42990, 35206, 70689, 50895, 74427, 36264, 72983, 44895, 81844, 49487, 51580, 25592, 9812, 12879, 14306, 18702, 57362, 5178, 84440, 91961, 11885, 85733, 31751, 72964, 61737]\n",
      "\n",
      "\tEXPECTED output:  91961\n",
      "\tYOUR     output:  None\n",
      "\n",
      "[Test 4] -> task 1.1 [NOT pass]\n",
      "\n",
      "\tinput:  [254627, 661557, 168530, 240031, 189376, 151206, 933853, 381758, 153889, 284271, 275419, 281405, 878871, 919975, 473746, 942030, 649969, 346195, 930968, 285580, 106772, 878502, 326173, 779630, 141270, 652799, 791669, 224368, 360801, 887412, 826901, 163706, 123780, 944328, 295050, 954771, 600401, 363245, 767773, 654054, 260934, 576013, 247249, 276293, 296991, 691918, 691474, 497219, 867889, 137049]\n",
      "\n",
      "\tEXPECTED output:  933853\n",
      "\tYOUR     output:  None\n",
      "\n"
     ]
    }
   ],
   "source": [
    "from hwtester import task1\n",
    "task1.test(find_largest_prime)"
   ]
  },
  {
   "cell_type": "markdown",
   "id": "074a06a7-1f73-46a6-8d04-37bd71c24928",
   "metadata": {},
   "source": [
    "### (50%) 2. More practice writing functions and loading data from text files. "
   ]
  },
  {
   "cell_type": "markdown",
   "id": "50b8b1dd-3f6d-4eb4-8f2e-d61df8fd1b46",
   "metadata": {},
   "source": [
    "We learned in lecture that functions are necessary\n",
    "tools in Python and really all of computation.\n",
    "\n",
    "In our Github repository   you will notice there are two text files in `hw1/data/`:\n",
    "\n",
    "* [`data/test_data.csv`](https://github.com/kmhuads/f25_data203/tree/main/hw2/data/test_data.csv)\n",
    "* [`data/story.txt`](https://github.com/kmhuads/f25_data203/tree/main/hw2/data/test_data.txt)\n",
    "\n",
    "You are encouraged to look at both files and see what is in \n",
    "them as they are different.  Text files form the basis of many data file formats\n",
    "that you will interact with in your future as a \n",
    "data scientist.\n",
    "\n",
    "In the notebook are some scaffolding code.  You will \n",
    "need to study it and use it in the solutions\n",
    "being asked."
   ]
  },
  {
   "cell_type": "code",
   "execution_count": 4,
   "id": "ad4a820c-6d60-491f-944d-906b8d989d3b",
   "metadata": {},
   "outputs": [],
   "source": [
    "def mystery_function(f_param=\"data/jazz_story.txt\", c_param=True):\n",
    "    import string\n",
    "\n",
    "    with open(f_param) as f:\n",
    "        s = ''.join(f.readlines())\n",
    "    \n",
    "    s_new = \"\"\n",
    "    \n",
    "    for c in s:\n",
    "        if c not in string.punctuation:        \n",
    "            s_new = s_new + (c.lower() if c_param else c)\n",
    "\n",
    "    return s_new.replace(\"\\n\\n\", \" \")"
   ]
  },
  {
   "cell_type": "markdown",
   "id": "86d5c162-ee97-4f3e-9fd7-1ac7f14e500f",
   "metadata": {},
   "source": [
    "#### **&#167; Task:**  **2.0 Practice explaining code.**\n",
    "\n",
    "Use the code in the first cell of the provided notebook and answer the question below:\n",
    "\n",
    "1. Explain in your own words what function `mystery_function` in the cell does."
   ]
  },
  {
   "cell_type": "markdown",
   "id": "9e32dfcc-6db1-44c1-b43d-3260f4850af2",
   "metadata": {},
   "source": [
    "**2.0 ANS:** [in this markdown cell]\n",
    "\n",
    "\n",
    "Put your answer here."
   ]
  },
  {
   "attachments": {},
   "cell_type": "markdown",
   "id": "2f883aa8-8cf2-4fbf-9b2d-1133fc226ef6",
   "metadata": {
    "tags": []
   },
   "source": [
    "### **&#167; Task:**  **2.1  Write a function that uses `mystery_function` and returns only the words that are 5 characters long.**\n",
    "\n",
    "_function_ **NAME**: `find_len5_words`\n",
    "\n",
    "_function_ **INPUT**: \n",
    "\n",
    "  - `s` &#8594; an arbitrary Python string (paragraphs, etc).\n",
    "\n",
    "_function_ **OUTPUT**:\n",
    "\n",
    "  - an empty list `[]` if there are no words 5 characters long in `s`,\n",
    "  - otherwise the non-empty list of words in `s`  which are 5 characters long.\n",
    "   \n",
    "_Code Example_:\n",
    "\n",
    "```python\n",
    "  input_string = mystery_function()\n",
    "  find_len5_words(input_string)\n",
    "```\n",
    "\n",
    "_Output_:\n",
    "```python\n",
    "  ['five1', 'five2', 'five3'] # assuming these are the only words of length 5 in s\n",
    "```"
   ]
  },
  {
   "cell_type": "code",
   "execution_count": 5,
   "id": "0eddbdfd-f641-49d8-a3c9-b5f7592d99e1",
   "metadata": {
    "tags": []
   },
   "outputs": [],
   "source": [
    "\n",
    "# YOUR SOLUTION GOES HERE\n",
    "\n",
    "def find_len5_words(s):\n",
    "    # implementation here\n",
    "    return "
   ]
  },
  {
   "cell_type": "markdown",
   "id": "185db96c-fecb-490f-a9a3-25466e44b4c8",
   "metadata": {},
   "source": [
    "**USE THE TESTER CODE BELOW TO TEST YOUR SOLUTION. THE TEST SHOULD PASS.**"
   ]
  },
  {
   "cell_type": "code",
   "execution_count": 6,
   "id": "0248ce4a-618e-4107-a1fd-6c3530418d9d",
   "metadata": {},
   "outputs": [
    {
     "name": "stdout",
     "output_type": "stream",
     "text": [
      "task2.1 [NOT pass]\n"
     ]
    }
   ],
   "source": [
    "from hwtester import task2\n",
    "task2.test(find_len5_words)"
   ]
  },
  {
   "cell_type": "markdown",
   "id": "5d335201-49c2-4db7-8d16-bb3dcdd5a58f",
   "metadata": {},
   "source": [
    "### **&#167; Task:**  **2.2 Rewrite and rename your `find_len5_words()` function so that it takes one additional parameter `w_size` (word size) which is a non-zero integer and returns all words in `s` of `w_size` length.**\n",
    "\n",
    "_function_ **NAME**: `find_words`\n",
    "\n",
    "_function_ **INPUT**: \n",
    "  \n",
    "  - `s` &#8594; an arbitrary Python string `s` (paragraphs, etc),\n",
    "  - `w_size` &#8594; a non-zero word size (`w_size`).\n",
    "\n",
    "_function_ **OUTPUT**:\n",
    "  \n",
    "  - an empty list `[]` if there are no words `w_size` characters long in `s`,\n",
    "  - otherwise the non-empty list of words in `s` which are `w_size` characters long.\n",
    "\n",
    "_Code Example_:\n",
    "\n",
    "```python\n",
    "  input_string = mystery_function()\n",
    "  find_words(input_string, 7) # return words of length 7\n",
    "```\n",
    "\n",
    "_Output_:\n",
    "```python\n",
    "  ['word1ln', 'word2ln', 'word3ln'] # assuming these are the only words of length 7\n",
    "```"
   ]
  },
  {
   "cell_type": "code",
   "execution_count": 7,
   "id": "a1c7c5bb-2d28-435b-9e58-96fe196157e5",
   "metadata": {},
   "outputs": [],
   "source": [
    "\n",
    "# YOUR SOLUTION GOES HERE\n",
    "\n",
    "def find_words(s, w_size):\n",
    "    # implementation here\n",
    "    return"
   ]
  },
  {
   "cell_type": "markdown",
   "id": "6e72518e-148e-48e3-880e-33f7f7090470",
   "metadata": {},
   "source": [
    "**USE THE TESTER CODE BELOW TO TEST YOUR SOLUTION. THE TEST SHOULD PASS.**"
   ]
  },
  {
   "cell_type": "code",
   "execution_count": 8,
   "id": "5a087083-15ac-425d-9a59-168daed36cb0",
   "metadata": {},
   "outputs": [
    {
     "name": "stdout",
     "output_type": "stream",
     "text": [
      "task2.2 (2) [NOT pass]\n",
      "task2.2 (5) [NOT pass]\n",
      "task2.2 (9) [NOT pass]\n",
      "task2.2 (11) [NOT pass]\n"
     ]
    }
   ],
   "source": [
    "from hwtester import task2\n",
    "task2.test(find_words)"
   ]
  },
  {
   "cell_type": "markdown",
   "id": "8a0b24f1-aadc-4271-91c1-e38a7edd60a7",
   "metadata": {},
   "source": [
    "### (30%) 3. Build a dictionary and understand and use files for data. \n"
   ]
  },
  {
   "cell_type": "markdown",
   "id": "c5a9d166-5b5b-4d6e-b1a7-e14c365f5a6a",
   "metadata": {},
   "source": [
    "By now you know what `mystery_function()`\n",
    "does.  You will now use that in a super special \n",
    "way to analyze the text that it uses.\n"
   ]
  },
  {
   "cell_type": "markdown",
   "id": "c978d2c5-2cd7-4166-9da7-e6ae95ecdc69",
   "metadata": {},
   "source": [
    "### **&#167; Task:**  **3.1 Build a map (dictionary) of all the words in `mystery_function`.**\n"
   ]
  },
  {
   "cell_type": "markdown",
   "id": "c5214f7f-8cde-4d25-832e-c7cbee6859ed",
   "metadata": {},
   "source": [
    "We will build a dictionary `d` which will have 13 _keys_: the numbers 1 to 13.\n",
    "\n",
    "The _value_ of the _keys_ will be a list of the _unique_ words which \n",
    "have are the length of the key (remember _key_ is a number).\n",
    "\n",
    "For example, the dictionary _key_ `3` indicates words of length 3.  The _value_\n",
    "of that key will be a list of the words from `mystery_function()` which \n",
    "are length `3`.\n",
    "\n",
    "Consider the words of length `3`: `see, saw, red, has, for, one`, then in \n",
    "the dictionary `d`  key `3` will be :\n",
    "\n",
    "```python\n",
    "  # an example dictionary, they key is the word length, \n",
    "  # the value is the list of words of that length (e.g. 3)\n",
    "\n",
    "  {\n",
    "    3: ['see', 'saw', 'red', 'has', 'for', 'one']\n",
    "  }\n",
    "\n",
    "```\n",
    "\n",
    "You will write a cell which processes every word\n",
    "from `mystery_function`, uses your `find_word`\n",
    "function and processes all output from length\n",
    "1 to 13.\n",
    "\n",
    "Your final dictionary `d` will have keys from 1\n",
    "to 13 representing words of length 1\n",
    "to length 13 and each key's value will be the list\n",
    "of _unique_ words of that length.\n",
    "\n",
    "Here is an example:\n",
    "\n",
    "```python\n",
    "\n",
    "{\n",
    "  1: ['a', 'i'], # words of length 1\n",
    "  2: ['me', 'to', 'us'], # words of length 2\n",
    "  3: ['you', 'the', 'may', 'end'], # words of length 3\n",
    "  4: ['them', 'they', 'four', 'shut'],\n",
    "  5: ['saver', 'thumb', 'store'] # words of length 5\n",
    "}\n",
    "\n",
    "```\n"
   ]
  },
  {
   "cell_type": "code",
   "execution_count": 9,
   "id": "99da028f-98cc-4db4-be31-b1cc29429b3e",
   "metadata": {},
   "outputs": [],
   "source": [
    "\n",
    "# YOUR SOLUTION GOES HERE TO SET D TO THE KEYS 1-13 AND VALUES TO UNIQUE WORDS OF THAT LENGTH\n",
    "\n",
    "d = {}"
   ]
  },
  {
   "cell_type": "code",
   "execution_count": 10,
   "id": "8c6a421c-7bfc-48ee-b169-a70e5b07fc4d",
   "metadata": {},
   "outputs": [
    {
     "name": "stdout",
     "output_type": "stream",
     "text": [
      "test3.1 (1) [not PASS]\n",
      "test3.1 (2) [not PASS]\n",
      "test3.1 (3) [not PASS]\n",
      "test3.1 (4) [not PASS]\n",
      "test3.1 (5) [not PASS]\n",
      "test3.1 (6) [not PASS]\n",
      "test3.1 (7) [not PASS]\n",
      "test3.1 (8) [not PASS]\n",
      "test3.1 (9) [not PASS]\n",
      "test3.1 (10) [not PASS]\n",
      "test3.1 (11) [not PASS]\n",
      "test3.1 (12) [not PASS]\n",
      "test3.1 (13) [not PASS]\n"
     ]
    }
   ],
   "source": [
    "from hwtester import task3\n",
    "task3.test(d)"
   ]
  },
  {
   "cell_type": "markdown",
   "id": "9daff8e4-c521-4d2b-8a64-78b1dae58184",
   "metadata": {},
   "source": [
    "### **&#167; Task:**  **3.2 Write a function to generate fake sentences based on a template.**\n"
   ]
  },
  {
   "cell_type": "markdown",
   "id": "994e8a64-6aa6-4e52-abdb-f7378879cbe5",
   "metadata": {},
   "source": [
    "\n",
    "_function_ **NAME**: `generate_sentence`\n",
    "\n",
    "_function_ **INPUT**: \n",
    "  \n",
    "  - `size_lst` &#8594; a list of numbers (integer word lengths, etc),\n",
    "  - `w_map` &#8594; a dictionary of word lengths (keys) and list of corresponding words of that length (values).\n",
    "\n",
    "_function_ **OUTPUT**:\n",
    "  \n",
    "  - a string containing random words of the size of each number in `size_lst`\n",
    "  \n",
    "_Code Example_:\n",
    "\n",
    "```python\n",
    "  w_map = your_code_to_make_a_map(mystery_list())\n",
    "  size_lst = [3, 4, 5, 1, 3]\n",
    "  generate_sentence(size_lst, w_map) # return a sentence like \"the bird sings a ton\"\n",
    "```\n",
    "\n",
    "_Output_:\n",
    "```python\n",
    "  \"the bird sings a ton\" # assuming these words are in w_map\n",
    "```\n"
   ]
  },
  {
   "cell_type": "code",
   "execution_count": 11,
   "id": "4825e642-84eb-4c25-afb9-5e86eb087d60",
   "metadata": {},
   "outputs": [],
   "source": [
    "# YOUR SOLUTION GOES HERE TO \n",
    "\n",
    "def generate_sentence(size_lst, w_map):\n",
    "    # complete the implementation\n",
    "    # return \"the begins sun track even invention\"\n",
    "    return "
   ]
  },
  {
   "cell_type": "code",
   "execution_count": 12,
   "id": "f87fd9df-c522-4e28-a519-c23c3432e51b",
   "metadata": {},
   "outputs": [
    {
     "name": "stdout",
     "output_type": "stream",
     "text": [
      "[not PASS]\n",
      "[not PASS]\n",
      "[not PASS]\n",
      "[not PASS]\n",
      "[not PASS]\n"
     ]
    }
   ],
   "source": [
    "from hwtester import task3\n",
    "task3.test(generate_sentence)"
   ]
  },
  {
   "cell_type": "markdown",
   "id": "ffd78a4b-15ea-4062-aab3-8c108f2dfdf9",
   "metadata": {},
   "source": [
    "### **&#167; Task:**  **3.3 Use a template to store fake sentence fragments to a file.**\n"
   ]
  },
  {
   "cell_type": "code",
   "execution_count": 13,
   "id": "3821d6b2-11f5-477a-a7f6-9373790ce06d",
   "metadata": {},
   "outputs": [],
   "source": [
    "sentence_template =  [\n",
    "  [1, 5, 2, 7, 2, 8],\n",
    "  [3, 6, 3, 5, 4, 9],\n",
    "  [3, 3, 6, 5, 3, 4],\n",
    "  [4, 4, 8, 4, 2, 5],\n",
    "  [4, 8, 4, 4, 1, 6]\n",
    "]"
   ]
  },
  {
   "cell_type": "code",
   "execution_count": 14,
   "id": "ddafc857-de96-4514-b70d-57d05928f5e8",
   "metadata": {},
   "outputs": [],
   "source": [
    "# YOUR SOLUTION GOES HERE TO \n",
    "f = open(\"hw2_task3-3.txt\", \"w\")\n",
    "\n",
    "## your code loop to generate and save the files\n",
    "\n",
    "f.close()"
   ]
  },
  {
   "cell_type": "code",
   "execution_count": 15,
   "id": "2efa363a-5407-47b5-ada0-35a57d27db35",
   "metadata": {},
   "outputs": [
    {
     "name": "stdout",
     "output_type": "stream",
     "text": [
      "[not PASS]\n",
      "[not PASS]\n",
      "[not PASS]\n",
      "[not PASS]\n",
      "[not PASS]\n"
     ]
    }
   ],
   "source": [
    "from hwtester import task3\n",
    "task3.test(open(\"hw2_task3-3.txt\"))"
   ]
  }
 ],
 "metadata": {
  "kernelspec": {
   "display_name": "Python 3 (ipykernel)",
   "language": "python",
   "name": "python3"
  },
  "language_info": {
   "codemirror_mode": {
    "name": "ipython",
    "version": 3
   },
   "file_extension": ".py",
   "mimetype": "text/x-python",
   "name": "python",
   "nbconvert_exporter": "python",
   "pygments_lexer": "ipython3",
   "version": "3.12.6"
  }
 },
 "nbformat": 4,
 "nbformat_minor": 5
}
